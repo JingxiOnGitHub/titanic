{
 "cells": [
  {
   "cell_type": "code",
   "execution_count": 194,
   "metadata": {
    "collapsed": true
   },
   "outputs": [],
   "source": [
    "import pandas as pd\n",
    "import pylab as plt\n",
    "%matplotlib inline\n",
    "import numpy as np\n",
    "import math\n",
    "\n",
    "df=pd.read_csv('data/train.csv', sep=',')\n",
    "\n",
    "features = ['Fare_s','Sex_', 'Pclass_s', 'Age_s','HasAge','Parch_s']\n",
    "#features = ['Sex_', 'Age_s_e']\n",
    "\n",
    "from sklearn.linear_model import LogisticRegression\n",
    "lr_model = LogisticRegression(C=0.5, random_state=0)\n",
    "\n",
    "from sklearn.preprocessing import PolynomialFeatures\n",
    "poly = PolynomialFeatures(9,include_bias=False)\n",
    "\n",
    "from sklearn.metrics import accuracy_score"
   ]
  },
  {
   "cell_type": "markdown",
   "metadata": {},
   "source": [
    "## Transform features"
   ]
  },
  {
   "cell_type": "code",
   "execution_count": 195,
   "metadata": {
    "collapsed": false
   },
   "outputs": [],
   "source": [
    "def feature_engineering(df):\n",
    "    df['Sex_'] = df['Sex'].apply(lambda x: 0 if x=='female' else 1)\n",
    "    \n",
    "    df['Fare'] = df['Fare'].fillna(10)\n",
    "    df['Fare'] = df['Fare'].apply(lambda x: 40 if x > 40 else x)\n",
    "    \n",
    "    fareMax=df['Fare'].max()\n",
    "    fareMin=df['Fare'].min()\n",
    "\n",
    "    df['Fare_s'] = (df['Fare']-fareMin)/(fareMax-fareMin)\n",
    "    \n",
    "    df['Pclass_s'] = df['Pclass']/3\n",
    "    \n",
    "    df['SibSp'] = df['SibSp'].apply(lambda x: 3 if x > 3 else x)\n",
    "    df['SibSp_s'] = df['SibSp']/df['SibSp'].max()\n",
    "    \n",
    "    df['Parch'] = df['Parch'].apply(lambda x: 3 if x > 3 else x)\n",
    "    df['Parch_s'] = df['Parch']/df['Parch'].max()\n",
    "\n",
    "    df['HasAge'] = df['Age'].apply(lambda x: 0 if np.isnan(x) else 1)\n",
    "\n",
    "    df['Age_'] = df['Age'].fillna(30)\n",
    "    df['Age_'] = df['Age_'].apply(lambda x: 0 if x <= 16 else x)\n",
    "    df['Age_'] = df['Age_'].apply(lambda x: 22 if x >12 and x <= 29 else x)\n",
    "    df['Age_'] = df['Age_'].apply(lambda x: 40 if x >29 and x <= 46 else x)\n",
    "    df['Age_'] = df['Age_'].apply(lambda x: 60 if x >46 else x)\n",
    "    ageMax=df['Age_'].max()\n",
    "    ageMin=df['Age_'].min()\n",
    "\n",
    "    df['Age_s'] = (df['Age_']-ageMin)/(ageMax-ageMin)\n",
    "    \n",
    "    \n",
    "    df['Age_with_Sex'] = df['Age_s'] + df['Sex_']\n",
    "\n",
    "feature_engineering(df)\n",
    "\n"
   ]
  },
  {
   "cell_type": "markdown",
   "metadata": {},
   "source": [
    "## Study Model"
   ]
  },
  {
   "cell_type": "code",
   "execution_count": 196,
   "metadata": {
    "collapsed": false
   },
   "outputs": [],
   "source": [
    "def correct_rate(lr_model):\n",
    "    correct_rate = 0.0\n",
    "    correct_rate_train = 0.0\n",
    "\n",
    "    number_run = 100\n",
    "    for i in range(number_run):\n",
    "\n",
    "        msk = np.random.rand(len(df)) < 0.8\n",
    "        _train = df[msk]\n",
    "        _validation = df[~msk]\n",
    "\n",
    "        X_train = _train[features]\n",
    "        X_train = poly.fit_transform(X_train)\n",
    "\n",
    "\n",
    "        lr_model.fit(X_train ,_train['Survived'])\n",
    "\n",
    "        X_validation = _validation[features]\n",
    "        X_validation = poly.fit_transform(X_validation)\n",
    "\n",
    "        #predict = lr_model.predict(X_validation)\n",
    "\n",
    "        #correct_rate += accuracy_score(_validation['Survived'],predict)\n",
    "        correct_rate += lr_model.score(X_validation, _validation['Survived'])\n",
    "        correct_rate_train += lr_model.score(X_train, _train['Survived'])\n",
    "\n",
    "    correct_rate = correct_rate/number_run\n",
    "    correct_rate_train = correct_rate_train/number_run\n",
    "\n",
    "    return (correct_rate, correct_rate_train)"
   ]
  },
  {
   "cell_type": "code",
   "execution_count": 198,
   "metadata": {
    "collapsed": false
   },
   "outputs": [
    {
     "data": {
      "text/plain": [
       "(0.82337106450701114, 0.84949178492709521)"
      ]
     },
     "execution_count": 198,
     "metadata": {},
     "output_type": "execute_result"
    }
   ],
   "source": [
    "correct_rate(lr_model)"
   ]
  },
  {
   "cell_type": "markdown",
   "metadata": {},
   "source": [
    "## Good results above"
   ]
  },
  {
   "cell_type": "markdown",
   "metadata": {},
   "source": [
    "## Choosing C:"
   ]
  },
  {
   "cell_type": "code",
   "execution_count": 199,
   "metadata": {
    "collapsed": false
   },
   "outputs": [],
   "source": [
    "C_para, score = [], []\n",
    "\n",
    "for c in np.arange(-5, 3):\n",
    "    lr = LogisticRegression(C=10**c, random_state=0)\n",
    "    rate = correct_rate(lr)\n",
    "    C_para.append(10**c)\n",
    "    score.append(rate)\n",
    "\n",
    "score = np.array(score)\n"
   ]
  },
  {
   "cell_type": "code",
   "execution_count": 200,
   "metadata": {
    "collapsed": false
   },
   "outputs": [
    {
     "data": {
      "image/png": "[encoded data removed]",
      "text/plain": [
       "<matplotlib.figure.Figure at 0x111ed3790>"
      ]
     },
     "metadata": {},
     "output_type": "display_data"
    }
   ],
   "source": [
    "plt.plot(C_para, score[:,0], label='validation correct rate')\n",
    "plt.plot(C_para, score[:,1], label='training correct rate')\n",
    "plt.legend(loc='lower right')\n",
    "plt.xscale('log')"
   ]
  },
  {
   "cell_type": "markdown",
   "metadata": {},
   "source": [
    "## Train Model"
   ]
  },
  {
   "cell_type": "code",
   "execution_count": 201,
   "metadata": {
    "collapsed": false
   },
   "outputs": [
    {
     "data": {
      "text/plain": [
       "LogisticRegression(C=0.5, class_weight=None, dual=False, fit_intercept=True,\n",
       "          intercept_scaling=1, max_iter=100, multi_class='ovr', n_jobs=1,\n",
       "          penalty='l2', random_state=0, solver='liblinear', tol=0.0001,\n",
       "          verbose=0, warm_start=False)"
      ]
     },
     "execution_count": 201,
     "metadata": {},
     "output_type": "execute_result"
    }
   ],
   "source": [
    "X = df[features]\n",
    "X = poly.fit_transform(X)\n",
    "\n",
    "lr_model.fit(X ,df['Survived'])"
   ]
  },
  {
   "cell_type": "code",
   "execution_count": 202,
   "metadata": {
    "collapsed": false
   },
   "outputs": [
    {
     "data": {
      "text/plain": [
       "0.856341189674523"
      ]
     },
     "execution_count": 202,
     "metadata": {},
     "output_type": "execute_result"
    }
   ],
   "source": [
    "pre = lr_model.predict(X)\n",
    "1 - (pre != df['Survived']).sum()/float(len(df))"
   ]
  },
  {
   "cell_type": "code",
   "execution_count": 203,
   "metadata": {
    "collapsed": false
   },
   "outputs": [
    {
     "name": "stdout",
     "output_type": "stream",
     "text": [
      "5004\n"
     ]
    }
   ],
   "source": [
    "print len(lr_model.coef_[0])"
   ]
  },
  {
   "cell_type": "code",
   "execution_count": 208,
   "metadata": {
    "collapsed": false
   },
   "outputs": [
    {
     "name": "stdout",
     "output_type": "stream",
     "text": [
      "(891, 5004)\n"
     ]
    }
   ],
   "source": [
    "print X.shape"
   ]
  },
  {
   "cell_type": "markdown",
   "metadata": {},
   "source": [
    "## Predict test"
   ]
  },
  {
   "cell_type": "code",
   "execution_count": 204,
   "metadata": {
    "collapsed": false
   },
   "outputs": [],
   "source": [
    "test = pd.read_csv('data/test.csv', sep=',')\n",
    "\n",
    "feature_engineering(test)\n",
    "\n",
    "X_test = test[features]\n",
    "X_test = poly.fit_transform(X_test)\n",
    "\n",
    "\n",
    "\n",
    "test['Survived'] = lr_model.predict(X_test)"
   ]
  },
  {
   "cell_type": "code",
   "execution_count": 205,
   "metadata": {
    "collapsed": true
   },
   "outputs": [],
   "source": [
    "import csv as csv\n",
    "predictions_file = open(\"LRmodel.Od9.C0.5.csv\", \"wb\")\n",
    "predictions_file_object = csv.writer(predictions_file)\n",
    "predictions_file_object.writerow([\"PassengerId\", \"Survived\"])\t# write the column headers\n",
    "for index, row in test.iterrows():\t\t\t\t\t\t\t\t\t# For each row in test file,\n",
    "    predictions_file_object.writerow([row['PassengerId'], row['Survived']])\t\t\t# write the PassengerId, and predict 1\n",
    "predictions_file.close()"
   ]
  },
  {
   "cell_type": "code",
   "execution_count": null,
   "metadata": {
    "collapsed": true
   },
   "outputs": [],
   "source": []
  }
 ],
 "metadata": {
  "kernelspec": {
   "display_name": "Python 2",
   "language": "python",
   "name": "python2"
  },
  "language_info": {
   "codemirror_mode": {
    "name": "ipython",
    "version": 2
   },
   "file_extension": ".py",
   "mimetype": "text/x-python",
   "name": "python",
   "nbconvert_exporter": "python",
   "pygments_lexer": "ipython2",
   "version": "2.7.11"
  }
 },
 "nbformat": 4,
 "nbformat_minor": 0
}
